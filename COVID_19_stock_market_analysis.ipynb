{
  "nbformat": 4,
  "nbformat_minor": 0,
  "metadata": {
    "colab": {
      "provenance": [],
      "authorship_tag": "ABX9TyOsTyBya3sQ4xwh7s/0XMQk",
      "include_colab_link": true
    },
    "kernelspec": {
      "name": "python3",
      "display_name": "Python 3"
    },
    "language_info": {
      "name": "python"
    }
  },
  "cells": [
    {
      "cell_type": "markdown",
      "metadata": {
        "id": "view-in-github",
        "colab_type": "text"
      },
      "source": [
        "<a href=\"https://colab.research.google.com/github/adrianbahtiar55/COVID-19-and-its-effect-on-the-stock-market-/blob/main/COVID_19_stock_market_analysis.ipynb\" target=\"_parent\"><img src=\"https://colab.research.google.com/assets/colab-badge.svg\" alt=\"Open In Colab\"/></a>"
      ]
    },
    {
      "cell_type": "markdown",
      "source": [
        "**1. Installing alpha_vantage**\n",
        "\n",
        "\n"
      ],
      "metadata": {
        "id": "vbEcp4IRNg9h"
      }
    },
    {
      "cell_type": "code",
      "source": [
        "!pip install alpha_vantage\n"
      ],
      "metadata": {
        "colab": {
          "base_uri": "https://localhost:8080/"
        },
        "id": "_x40OsaFUk5z",
        "outputId": "d0b1ac63-75e1-428e-cf62-c1a767f98b97"
      },
      "execution_count": 3,
      "outputs": [
        {
          "output_type": "stream",
          "name": "stdout",
          "text": [
            "Looking in indexes: https://pypi.org/simple, https://us-python.pkg.dev/colab-wheels/public/simple/\n",
            "Requirement already satisfied: alpha_vantage in /usr/local/lib/python3.9/dist-packages (2.3.1)\n",
            "Requirement already satisfied: aiohttp in /usr/local/lib/python3.9/dist-packages (from alpha_vantage) (3.8.4)\n",
            "Requirement already satisfied: requests in /usr/local/lib/python3.9/dist-packages (from alpha_vantage) (2.27.1)\n",
            "Requirement already satisfied: attrs>=17.3.0 in /usr/local/lib/python3.9/dist-packages (from aiohttp->alpha_vantage) (23.1.0)\n",
            "Requirement already satisfied: charset-normalizer<4.0,>=2.0 in /usr/local/lib/python3.9/dist-packages (from aiohttp->alpha_vantage) (2.0.12)\n",
            "Requirement already satisfied: aiosignal>=1.1.2 in /usr/local/lib/python3.9/dist-packages (from aiohttp->alpha_vantage) (1.3.1)\n",
            "Requirement already satisfied: yarl<2.0,>=1.0 in /usr/local/lib/python3.9/dist-packages (from aiohttp->alpha_vantage) (1.8.2)\n",
            "Requirement already satisfied: async-timeout<5.0,>=4.0.0a3 in /usr/local/lib/python3.9/dist-packages (from aiohttp->alpha_vantage) (4.0.2)\n",
            "Requirement already satisfied: multidict<7.0,>=4.5 in /usr/local/lib/python3.9/dist-packages (from aiohttp->alpha_vantage) (6.0.4)\n",
            "Requirement already satisfied: frozenlist>=1.1.1 in /usr/local/lib/python3.9/dist-packages (from aiohttp->alpha_vantage) (1.3.3)\n",
            "Requirement already satisfied: idna<4,>=2.5 in /usr/local/lib/python3.9/dist-packages (from requests->alpha_vantage) (3.4)\n",
            "Requirement already satisfied: certifi>=2017.4.17 in /usr/local/lib/python3.9/dist-packages (from requests->alpha_vantage) (2022.12.7)\n",
            "Requirement already satisfied: urllib3<1.27,>=1.21.1 in /usr/local/lib/python3.9/dist-packages (from requests->alpha_vantage) (1.26.15)\n"
          ]
        }
      ]
    },
    {
      "cell_type": "markdown",
      "source": [
        "**2. Import necessary libraries and read the daily confirmed cases and deaths into two dataframes:**"
      ],
      "metadata": {
        "id": "tpyhbg3oXcCe"
      }
    },
    {
      "cell_type": "code",
      "source": [
        "import pandas as pd\n",
        "\n",
        "confirmed_cases_url = \"https://raw.githubusercontent.com/CSSEGISandData/COVID-19/master/csse_covid_19_data/csse_covid_19_time_series/time_series_covid19_confirmed_global.csv\"\n",
        "deaths_url = \"https://raw.githubusercontent.com/CSSEGISandData/COVID-19/master/csse_covid_19_data/csse_covid_19_time_series/time_series_covid19_deaths_global.csv\"\n",
        "\n",
        "confirmed_df = pd.read_csv(confirmed_cases_url)\n",
        "deaths_df = pd.read_csv(deaths_url)\n"
      ],
      "metadata": {
        "id": "Ny_V8e79XhIf"
      },
      "execution_count": 4,
      "outputs": []
    },
    {
      "cell_type": "markdown",
      "source": [
        "**3. Use pandas to create a dataframe that aggregates and sums both confirmed cases and deaths on a global level:**"
      ],
      "metadata": {
        "id": "oqwoKAsCX7iB"
      }
    },
    {
      "cell_type": "code",
      "source": [
        "confirmed_global = confirmed_df.iloc[:, 4:].sum(axis=0)\n",
        "deaths_global = deaths_df.iloc[:, 4:].sum(axis=0)\n",
        "\n",
        "global_df = pd.DataFrame({\"Confirmed\": confirmed_global, \"Deaths\": deaths_global})\n",
        "global_df.index = pd.to_datetime(global_df.index)\n"
      ],
      "metadata": {
        "id": "3Qn5-5GFX-hp"
      },
      "execution_count": 5,
      "outputs": []
    },
    {
      "cell_type": "markdown",
      "source": [
        "**4. Research stocks for each industry and store them in a dictionary:**"
      ],
      "metadata": {
        "id": "oO-GMtauYf1g"
      }
    },
    {
      "cell_type": "code",
      "source": [
        "stocks = {\n",
        "    \"SPY\": \"Overall American Market\",\n",
        "    \"XIU.TO\": \"Overall Canadian Market\",\n",
        "    \"AAL\": \"Travel Sector\",\n",
        "    \"VNQ\": \"Real Estate Sector\",\n",
        "    \"GLD\": \"Precious Metals\"\n",
        "}\n"
      ],
      "metadata": {
        "id": "vajPxUWgcaXr"
      },
      "execution_count": 6,
      "outputs": []
    }
  ]
}