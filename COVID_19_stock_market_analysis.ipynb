{
  "nbformat": 4,
  "nbformat_minor": 0,
  "metadata": {
    "colab": {
      "provenance": [],
      "authorship_tag": "ABX9TyPMmrP3CY36/3Rz/KvkwATO",
      "include_colab_link": true
    },
    "kernelspec": {
      "name": "python3",
      "display_name": "Python 3"
    },
    "language_info": {
      "name": "python"
    }
  },
  "cells": [
    {
      "cell_type": "markdown",
      "metadata": {
        "id": "view-in-github",
        "colab_type": "text"
      },
      "source": [
        "<a href=\"https://colab.research.google.com/github/adrianbahtiar55/COVID-19-and-its-effect-on-the-stock-market-/blob/main/COVID_19_stock_market_analysis.ipynb\" target=\"_parent\"><img src=\"https://colab.research.google.com/assets/colab-badge.svg\" alt=\"Open In Colab\"/></a>"
      ]
    },
    {
      "cell_type": "markdown",
      "source": [
        "**1. Installing alpha_vantage**\n",
        "\n",
        "\n"
      ],
      "metadata": {
        "id": "vbEcp4IRNg9h"
      }
    },
    {
      "cell_type": "code",
      "source": [
        "!pip install alpha_vantage\n"
      ],
      "metadata": {
        "colab": {
          "base_uri": "https://localhost:8080/"
        },
        "id": "_x40OsaFUk5z",
        "outputId": "173d1aaf-0bea-4541-bd91-e7601806b282"
      },
      "execution_count": 1,
      "outputs": [
        {
          "output_type": "stream",
          "name": "stdout",
          "text": [
            "Looking in indexes: https://pypi.org/simple, https://us-python.pkg.dev/colab-wheels/public/simple/\n",
            "Collecting alpha_vantage\n",
            "  Downloading alpha_vantage-2.3.1-py3-none-any.whl (31 kB)\n",
            "Requirement already satisfied: requests in /usr/local/lib/python3.9/dist-packages (from alpha_vantage) (2.27.1)\n",
            "Collecting aiohttp\n",
            "  Downloading aiohttp-3.8.4-cp39-cp39-manylinux_2_17_x86_64.manylinux2014_x86_64.whl (1.0 MB)\n",
            "\u001b[2K     \u001b[90m━━━━━━━━━━━━━━━━━━━━━━━━━━━━━━━━━━━━━━━━\u001b[0m \u001b[32m1.0/1.0 MB\u001b[0m \u001b[31m10.1 MB/s\u001b[0m eta \u001b[36m0:00:00\u001b[0m\n",
            "\u001b[?25hRequirement already satisfied: attrs>=17.3.0 in /usr/local/lib/python3.9/dist-packages (from aiohttp->alpha_vantage) (23.1.0)\n",
            "Collecting async-timeout<5.0,>=4.0.0a3\n",
            "  Downloading async_timeout-4.0.2-py3-none-any.whl (5.8 kB)\n",
            "Collecting yarl<2.0,>=1.0\n",
            "  Downloading yarl-1.8.2-cp39-cp39-manylinux_2_17_x86_64.manylinux2014_x86_64.whl (264 kB)\n",
            "\u001b[2K     \u001b[90m━━━━━━━━━━━━━━━━━━━━━━━━━━━━━━━━━━━━━━\u001b[0m \u001b[32m264.6/264.6 kB\u001b[0m \u001b[31m10.2 MB/s\u001b[0m eta \u001b[36m0:00:00\u001b[0m\n",
            "\u001b[?25hRequirement already satisfied: charset-normalizer<4.0,>=2.0 in /usr/local/lib/python3.9/dist-packages (from aiohttp->alpha_vantage) (2.0.12)\n",
            "Collecting aiosignal>=1.1.2\n",
            "  Downloading aiosignal-1.3.1-py3-none-any.whl (7.6 kB)\n",
            "Collecting frozenlist>=1.1.1\n",
            "  Downloading frozenlist-1.3.3-cp39-cp39-manylinux_2_5_x86_64.manylinux1_x86_64.manylinux_2_17_x86_64.manylinux2014_x86_64.whl (158 kB)\n",
            "\u001b[2K     \u001b[90m━━━━━━━━━━━━━━━━━━━━━━━━━━━━━━━━━━━━━━━\u001b[0m \u001b[32m158.8/158.8 kB\u001b[0m \u001b[31m6.7 MB/s\u001b[0m eta \u001b[36m0:00:00\u001b[0m\n",
            "\u001b[?25hCollecting multidict<7.0,>=4.5\n",
            "  Downloading multidict-6.0.4-cp39-cp39-manylinux_2_17_x86_64.manylinux2014_x86_64.whl (114 kB)\n",
            "\u001b[2K     \u001b[90m━━━━━━━━━━━━━━━━━━━━━━━━━━━━━━━━━━━━━━━\u001b[0m \u001b[32m114.2/114.2 kB\u001b[0m \u001b[31m3.7 MB/s\u001b[0m eta \u001b[36m0:00:00\u001b[0m\n",
            "\u001b[?25hRequirement already satisfied: idna<4,>=2.5 in /usr/local/lib/python3.9/dist-packages (from requests->alpha_vantage) (3.4)\n",
            "Requirement already satisfied: certifi>=2017.4.17 in /usr/local/lib/python3.9/dist-packages (from requests->alpha_vantage) (2022.12.7)\n",
            "Requirement already satisfied: urllib3<1.27,>=1.21.1 in /usr/local/lib/python3.9/dist-packages (from requests->alpha_vantage) (1.26.15)\n",
            "Installing collected packages: multidict, frozenlist, async-timeout, yarl, aiosignal, aiohttp, alpha_vantage\n",
            "Successfully installed aiohttp-3.8.4 aiosignal-1.3.1 alpha_vantage-2.3.1 async-timeout-4.0.2 frozenlist-1.3.3 multidict-6.0.4 yarl-1.8.2\n"
          ]
        }
      ]
    },
    {
      "cell_type": "markdown",
      "source": [
        "**2. Import necessary libraries and read the daily confirmed cases and deaths into two dataframes:**"
      ],
      "metadata": {
        "id": "tpyhbg3oXcCe"
      }
    },
    {
      "cell_type": "code",
      "source": [
        "import pandas as pd\n",
        "\n",
        "confirmed_cases_url = \"https://raw.githubusercontent.com/CSSEGISandData/COVID-19/master/csse_covid_19_data/csse_covid_19_time_series/time_series_covid19_confirmed_global.csv\"\n",
        "deaths_url = \"https://raw.githubusercontent.com/CSSEGISandData/COVID-19/master/csse_covid_19_data/csse_covid_19_time_series/time_series_covid19_deaths_global.csv\"\n",
        "\n",
        "confirmed_df = pd.read_csv(confirmed_cases_url)\n",
        "deaths_df = pd.read_csv(deaths_url)\n"
      ],
      "metadata": {
        "id": "Ny_V8e79XhIf"
      },
      "execution_count": 2,
      "outputs": []
    },
    {
      "cell_type": "markdown",
      "source": [
        "**3. Use pandas to create a dataframe that aggregates and sums both confirmed cases and deaths on a global level:**"
      ],
      "metadata": {
        "id": "oqwoKAsCX7iB"
      }
    },
    {
      "cell_type": "code",
      "source": [
        "confirmed_global = confirmed_df.iloc[:, 4:].sum(axis=0)\n",
        "deaths_global = deaths_df.iloc[:, 4:].sum(axis=0)\n",
        "\n",
        "global_df = pd.DataFrame({\"Confirmed\": confirmed_global, \"Deaths\": deaths_global})\n",
        "global_df.index = pd.to_datetime(global_df.index)\n"
      ],
      "metadata": {
        "id": "3Qn5-5GFX-hp"
      },
      "execution_count": 3,
      "outputs": []
    },
    {
      "cell_type": "markdown",
      "source": [
        "**4. Research stocks for each industry and store them in a dictionary:**"
      ],
      "metadata": {
        "id": "oO-GMtauYf1g"
      }
    },
    {
      "cell_type": "code",
      "source": [
        "stocks = {\n",
        "    \"SPY\": \"Overall American Market\",\n",
        "    \"XIU.TO\": \"Overall Canadian Market\",\n",
        "    \"AAL\": \"Travel Sector\",\n",
        "    \"VNQ\": \"Real Estate Sector\",\n",
        "    \"GLD\": \"Precious Metals\"\n",
        "}\n"
      ],
      "metadata": {
        "id": "vajPxUWgcaXr"
      },
      "execution_count": 4,
      "outputs": []
    },
    {
      "cell_type": "markdown",
      "source": [
        "**5. Use AlphaVantage (the stock API used earlier in the course) to get the daily high and low prices for your selected stocks:**"
      ],
      "metadata": {
        "id": "4fEosCPvcqEL"
      }
    },
    {
      "cell_type": "code",
      "source": [
        "from alpha_vantage.timeseries import TimeSeries\n",
        "\n",
        "api_key = \"Y97V5IF3M9KZJSRZ\" \n",
        "\n",
        "ts = TimeSeries(api_key, output_format=\"pandas\")\n",
        "\n",
        "stock_data = {}\n",
        "\n",
        "for symbol, name in stocks.items():\n",
        "    data, _ = ts.get_daily_adjusted(symbol, outputsize=\"compact\")\n",
        "    data = data[[\"2. high\", \"3. low\"]]\n",
        "    stock_data[name] = data\n"
      ],
      "metadata": {
        "id": "j8FaHQ6ZdVYP"
      },
      "execution_count": 7,
      "outputs": []
    },
    {
      "cell_type": "code",
      "source": [
        "print(stock_data)"
      ],
      "metadata": {
        "id": "E8rFmt_N2hwA"
      },
      "execution_count": null,
      "outputs": []
    },
    {
      "cell_type": "markdown",
      "source": [
        "**6. Append stock data to the global_df dataframe:**"
      ],
      "metadata": {
        "id": "2476gDZF4E2n"
      }
    },
    {
      "cell_type": "code",
      "source": [
        "for name, data in stock_data.items():\n",
        "    global_df = global_df.join(data.rename(columns={\"2. high\": f\"{name} High\", \"3. low\": f\"{name} Low\"}), how=\"inner\")\n"
      ],
      "metadata": {
        "id": "sDm818xV4SzS"
      },
      "execution_count": 9,
      "outputs": []
    },
    {
      "cell_type": "code",
      "source": [
        "global_df"
      ],
      "metadata": {
        "colab": {
          "base_uri": "https://localhost:8080/",
          "height": 693
        },
        "id": "iABpiwIf4b0K",
        "outputId": "95116d9d-b43a-4f92-8cc6-bb5a3997ac76"
      },
      "execution_count": 10,
      "outputs": [
        {
          "output_type": "execute_result",
          "data": {
            "text/plain": [
              "            Confirmed   Deaths  Overall American Market High  \\\n",
              "2022-11-25  641037771  6630892                        402.91   \n",
              "2022-11-28  641977647  6633172                        400.81   \n",
              "2022-11-29  642708342  6634772                        397.30   \n",
              "2022-11-30  643244123  6636401                        407.68   \n",
              "2022-12-01  643950364  6638794                        410.00   \n",
              "...               ...      ...                           ...   \n",
              "2023-03-03  675914580  6877325                        404.45   \n",
              "2023-03-06  676082941  6878115                        407.45   \n",
              "2023-03-07  676213378  6879038                        404.67   \n",
              "2023-03-08  676392824  6880483                        399.71   \n",
              "2023-03-09  676570149  6881802                        401.48   \n",
              "\n",
              "            Overall American Market Low  Overall Canadian Market High  \\\n",
              "2022-11-25                      401.535                         31.31   \n",
              "2022-11-28                      395.110                         31.24   \n",
              "2022-11-29                      393.300                         31.14   \n",
              "2022-11-30                      393.480                         31.29   \n",
              "2022-12-01                      404.750                         31.55   \n",
              "...                                 ...                           ...   \n",
              "2023-03-03                      399.030                         31.28   \n",
              "2023-03-06                      404.010                         31.31   \n",
              "2023-03-07                      397.625                         31.20   \n",
              "2023-03-08                      396.590                         31.01   \n",
              "2023-03-09                      390.530                         31.03   \n",
              "\n",
              "            Overall Canadian Market Low  Travel Sector High  \\\n",
              "2022-11-25                        31.14             14.7000   \n",
              "2022-11-28                        30.92             14.4399   \n",
              "2022-11-29                        30.97             14.1600   \n",
              "2022-11-30                        30.81             14.4450   \n",
              "2022-12-01                        31.31             14.5693   \n",
              "...                                 ...                 ...   \n",
              "2023-03-03                        30.94             16.5500   \n",
              "2023-03-06                        31.12             16.5500   \n",
              "2023-03-07                        30.71             16.6600   \n",
              "2023-03-08                        30.79             16.6000   \n",
              "2023-03-09                        30.45             16.8000   \n",
              "\n",
              "            Travel Sector Low  Real Estate Sector High  \\\n",
              "2022-11-25            14.3500                  87.0600   \n",
              "2022-11-28            13.8200                  86.9600   \n",
              "2022-11-29            13.8300                  86.2183   \n",
              "2022-11-30            13.9300                  88.1400   \n",
              "2022-12-01            13.9324                  89.3800   \n",
              "...                       ...                      ...   \n",
              "2023-03-03            16.1400                  87.1250   \n",
              "2023-03-06            16.1000                  87.4100   \n",
              "2023-03-07            16.1400                  86.6100   \n",
              "2023-03-08            16.2701                  86.0400   \n",
              "2023-03-09            15.8450                  85.7600   \n",
              "\n",
              "            Real Estate Sector Low  Precious Metals High  Precious Metals Low  \n",
              "2022-11-25                  86.570              163.4300              162.765  \n",
              "2022-11-28                  84.510              163.0600              161.910  \n",
              "2022-11-29                  84.510              163.6299              162.600  \n",
              "2022-11-30                  85.270              164.8100              162.400  \n",
              "2022-12-01                  87.170              167.9500              166.975  \n",
              "...                            ...                   ...                  ...  \n",
              "2023-03-03                  86.060              172.5950              170.980  \n",
              "2023-03-06                  86.385              172.3700              171.540  \n",
              "2023-03-07                  84.390              170.4700              168.520  \n",
              "2023-03-08                  84.490              169.5900              168.520  \n",
              "2023-03-09                  83.395              170.6500              169.710  \n",
              "\n",
              "[70 rows x 12 columns]"
            ],
            "text/html": [
              "\n",
              "  <div id=\"df-31c8b21d-66a4-4bfd-a1dc-fce9e46e2884\">\n",
              "    <div class=\"colab-df-container\">\n",
              "      <div>\n",
              "<style scoped>\n",
              "    .dataframe tbody tr th:only-of-type {\n",
              "        vertical-align: middle;\n",
              "    }\n",
              "\n",
              "    .dataframe tbody tr th {\n",
              "        vertical-align: top;\n",
              "    }\n",
              "\n",
              "    .dataframe thead th {\n",
              "        text-align: right;\n",
              "    }\n",
              "</style>\n",
              "<table border=\"1\" class=\"dataframe\">\n",
              "  <thead>\n",
              "    <tr style=\"text-align: right;\">\n",
              "      <th></th>\n",
              "      <th>Confirmed</th>\n",
              "      <th>Deaths</th>\n",
              "      <th>Overall American Market High</th>\n",
              "      <th>Overall American Market Low</th>\n",
              "      <th>Overall Canadian Market High</th>\n",
              "      <th>Overall Canadian Market Low</th>\n",
              "      <th>Travel Sector High</th>\n",
              "      <th>Travel Sector Low</th>\n",
              "      <th>Real Estate Sector High</th>\n",
              "      <th>Real Estate Sector Low</th>\n",
              "      <th>Precious Metals High</th>\n",
              "      <th>Precious Metals Low</th>\n",
              "    </tr>\n",
              "  </thead>\n",
              "  <tbody>\n",
              "    <tr>\n",
              "      <th>2022-11-25</th>\n",
              "      <td>641037771</td>\n",
              "      <td>6630892</td>\n",
              "      <td>402.91</td>\n",
              "      <td>401.535</td>\n",
              "      <td>31.31</td>\n",
              "      <td>31.14</td>\n",
              "      <td>14.7000</td>\n",
              "      <td>14.3500</td>\n",
              "      <td>87.0600</td>\n",
              "      <td>86.570</td>\n",
              "      <td>163.4300</td>\n",
              "      <td>162.765</td>\n",
              "    </tr>\n",
              "    <tr>\n",
              "      <th>2022-11-28</th>\n",
              "      <td>641977647</td>\n",
              "      <td>6633172</td>\n",
              "      <td>400.81</td>\n",
              "      <td>395.110</td>\n",
              "      <td>31.24</td>\n",
              "      <td>30.92</td>\n",
              "      <td>14.4399</td>\n",
              "      <td>13.8200</td>\n",
              "      <td>86.9600</td>\n",
              "      <td>84.510</td>\n",
              "      <td>163.0600</td>\n",
              "      <td>161.910</td>\n",
              "    </tr>\n",
              "    <tr>\n",
              "      <th>2022-11-29</th>\n",
              "      <td>642708342</td>\n",
              "      <td>6634772</td>\n",
              "      <td>397.30</td>\n",
              "      <td>393.300</td>\n",
              "      <td>31.14</td>\n",
              "      <td>30.97</td>\n",
              "      <td>14.1600</td>\n",
              "      <td>13.8300</td>\n",
              "      <td>86.2183</td>\n",
              "      <td>84.510</td>\n",
              "      <td>163.6299</td>\n",
              "      <td>162.600</td>\n",
              "    </tr>\n",
              "    <tr>\n",
              "      <th>2022-11-30</th>\n",
              "      <td>643244123</td>\n",
              "      <td>6636401</td>\n",
              "      <td>407.68</td>\n",
              "      <td>393.480</td>\n",
              "      <td>31.29</td>\n",
              "      <td>30.81</td>\n",
              "      <td>14.4450</td>\n",
              "      <td>13.9300</td>\n",
              "      <td>88.1400</td>\n",
              "      <td>85.270</td>\n",
              "      <td>164.8100</td>\n",
              "      <td>162.400</td>\n",
              "    </tr>\n",
              "    <tr>\n",
              "      <th>2022-12-01</th>\n",
              "      <td>643950364</td>\n",
              "      <td>6638794</td>\n",
              "      <td>410.00</td>\n",
              "      <td>404.750</td>\n",
              "      <td>31.55</td>\n",
              "      <td>31.31</td>\n",
              "      <td>14.5693</td>\n",
              "      <td>13.9324</td>\n",
              "      <td>89.3800</td>\n",
              "      <td>87.170</td>\n",
              "      <td>167.9500</td>\n",
              "      <td>166.975</td>\n",
              "    </tr>\n",
              "    <tr>\n",
              "      <th>...</th>\n",
              "      <td>...</td>\n",
              "      <td>...</td>\n",
              "      <td>...</td>\n",
              "      <td>...</td>\n",
              "      <td>...</td>\n",
              "      <td>...</td>\n",
              "      <td>...</td>\n",
              "      <td>...</td>\n",
              "      <td>...</td>\n",
              "      <td>...</td>\n",
              "      <td>...</td>\n",
              "      <td>...</td>\n",
              "    </tr>\n",
              "    <tr>\n",
              "      <th>2023-03-03</th>\n",
              "      <td>675914580</td>\n",
              "      <td>6877325</td>\n",
              "      <td>404.45</td>\n",
              "      <td>399.030</td>\n",
              "      <td>31.28</td>\n",
              "      <td>30.94</td>\n",
              "      <td>16.5500</td>\n",
              "      <td>16.1400</td>\n",
              "      <td>87.1250</td>\n",
              "      <td>86.060</td>\n",
              "      <td>172.5950</td>\n",
              "      <td>170.980</td>\n",
              "    </tr>\n",
              "    <tr>\n",
              "      <th>2023-03-06</th>\n",
              "      <td>676082941</td>\n",
              "      <td>6878115</td>\n",
              "      <td>407.45</td>\n",
              "      <td>404.010</td>\n",
              "      <td>31.31</td>\n",
              "      <td>31.12</td>\n",
              "      <td>16.5500</td>\n",
              "      <td>16.1000</td>\n",
              "      <td>87.4100</td>\n",
              "      <td>86.385</td>\n",
              "      <td>172.3700</td>\n",
              "      <td>171.540</td>\n",
              "    </tr>\n",
              "    <tr>\n",
              "      <th>2023-03-07</th>\n",
              "      <td>676213378</td>\n",
              "      <td>6879038</td>\n",
              "      <td>404.67</td>\n",
              "      <td>397.625</td>\n",
              "      <td>31.20</td>\n",
              "      <td>30.71</td>\n",
              "      <td>16.6600</td>\n",
              "      <td>16.1400</td>\n",
              "      <td>86.6100</td>\n",
              "      <td>84.390</td>\n",
              "      <td>170.4700</td>\n",
              "      <td>168.520</td>\n",
              "    </tr>\n",
              "    <tr>\n",
              "      <th>2023-03-08</th>\n",
              "      <td>676392824</td>\n",
              "      <td>6880483</td>\n",
              "      <td>399.71</td>\n",
              "      <td>396.590</td>\n",
              "      <td>31.01</td>\n",
              "      <td>30.79</td>\n",
              "      <td>16.6000</td>\n",
              "      <td>16.2701</td>\n",
              "      <td>86.0400</td>\n",
              "      <td>84.490</td>\n",
              "      <td>169.5900</td>\n",
              "      <td>168.520</td>\n",
              "    </tr>\n",
              "    <tr>\n",
              "      <th>2023-03-09</th>\n",
              "      <td>676570149</td>\n",
              "      <td>6881802</td>\n",
              "      <td>401.48</td>\n",
              "      <td>390.530</td>\n",
              "      <td>31.03</td>\n",
              "      <td>30.45</td>\n",
              "      <td>16.8000</td>\n",
              "      <td>15.8450</td>\n",
              "      <td>85.7600</td>\n",
              "      <td>83.395</td>\n",
              "      <td>170.6500</td>\n",
              "      <td>169.710</td>\n",
              "    </tr>\n",
              "  </tbody>\n",
              "</table>\n",
              "<p>70 rows × 12 columns</p>\n",
              "</div>\n",
              "      <button class=\"colab-df-convert\" onclick=\"convertToInteractive('df-31c8b21d-66a4-4bfd-a1dc-fce9e46e2884')\"\n",
              "              title=\"Convert this dataframe to an interactive table.\"\n",
              "              style=\"display:none;\">\n",
              "        \n",
              "  <svg xmlns=\"http://www.w3.org/2000/svg\" height=\"24px\"viewBox=\"0 0 24 24\"\n",
              "       width=\"24px\">\n",
              "    <path d=\"M0 0h24v24H0V0z\" fill=\"none\"/>\n",
              "    <path d=\"M18.56 5.44l.94 2.06.94-2.06 2.06-.94-2.06-.94-.94-2.06-.94 2.06-2.06.94zm-11 1L8.5 8.5l.94-2.06 2.06-.94-2.06-.94L8.5 2.5l-.94 2.06-2.06.94zm10 10l.94 2.06.94-2.06 2.06-.94-2.06-.94-.94-2.06-.94 2.06-2.06.94z\"/><path d=\"M17.41 7.96l-1.37-1.37c-.4-.4-.92-.59-1.43-.59-.52 0-1.04.2-1.43.59L10.3 9.45l-7.72 7.72c-.78.78-.78 2.05 0 2.83L4 21.41c.39.39.9.59 1.41.59.51 0 1.02-.2 1.41-.59l7.78-7.78 2.81-2.81c.8-.78.8-2.07 0-2.86zM5.41 20L4 18.59l7.72-7.72 1.47 1.35L5.41 20z\"/>\n",
              "  </svg>\n",
              "      </button>\n",
              "      \n",
              "  <style>\n",
              "    .colab-df-container {\n",
              "      display:flex;\n",
              "      flex-wrap:wrap;\n",
              "      gap: 12px;\n",
              "    }\n",
              "\n",
              "    .colab-df-convert {\n",
              "      background-color: #E8F0FE;\n",
              "      border: none;\n",
              "      border-radius: 50%;\n",
              "      cursor: pointer;\n",
              "      display: none;\n",
              "      fill: #1967D2;\n",
              "      height: 32px;\n",
              "      padding: 0 0 0 0;\n",
              "      width: 32px;\n",
              "    }\n",
              "\n",
              "    .colab-df-convert:hover {\n",
              "      background-color: #E2EBFA;\n",
              "      box-shadow: 0px 1px 2px rgba(60, 64, 67, 0.3), 0px 1px 3px 1px rgba(60, 64, 67, 0.15);\n",
              "      fill: #174EA6;\n",
              "    }\n",
              "\n",
              "    [theme=dark] .colab-df-convert {\n",
              "      background-color: #3B4455;\n",
              "      fill: #D2E3FC;\n",
              "    }\n",
              "\n",
              "    [theme=dark] .colab-df-convert:hover {\n",
              "      background-color: #434B5C;\n",
              "      box-shadow: 0px 1px 3px 1px rgba(0, 0, 0, 0.15);\n",
              "      filter: drop-shadow(0px 1px 2px rgba(0, 0, 0, 0.3));\n",
              "      fill: #FFFFFF;\n",
              "    }\n",
              "  </style>\n",
              "\n",
              "      <script>\n",
              "        const buttonEl =\n",
              "          document.querySelector('#df-31c8b21d-66a4-4bfd-a1dc-fce9e46e2884 button.colab-df-convert');\n",
              "        buttonEl.style.display =\n",
              "          google.colab.kernel.accessAllowed ? 'block' : 'none';\n",
              "\n",
              "        async function convertToInteractive(key) {\n",
              "          const element = document.querySelector('#df-31c8b21d-66a4-4bfd-a1dc-fce9e46e2884');\n",
              "          const dataTable =\n",
              "            await google.colab.kernel.invokeFunction('convertToInteractive',\n",
              "                                                     [key], {});\n",
              "          if (!dataTable) return;\n",
              "\n",
              "          const docLinkHtml = 'Like what you see? Visit the ' +\n",
              "            '<a target=\"_blank\" href=https://colab.research.google.com/notebooks/data_table.ipynb>data table notebook</a>'\n",
              "            + ' to learn more about interactive tables.';\n",
              "          element.innerHTML = '';\n",
              "          dataTable['output_type'] = 'display_data';\n",
              "          await google.colab.output.renderOutput(dataTable, element);\n",
              "          const docLink = document.createElement('div');\n",
              "          docLink.innerHTML = docLinkHtml;\n",
              "          element.appendChild(docLink);\n",
              "        }\n",
              "      </script>\n",
              "    </div>\n",
              "  </div>\n",
              "  "
            ]
          },
          "metadata": {},
          "execution_count": 10
        }
      ]
    }
  ]
}