{
  "nbformat": 4,
  "nbformat_minor": 0,
  "metadata": {
    "colab": {
      "provenance": [],
      "authorship_tag": "ABX9TyPjn1+LHkPQEqKr1dPWHA7k",
      "include_colab_link": true
    },
    "kernelspec": {
      "name": "python3",
      "display_name": "Python 3"
    },
    "language_info": {
      "name": "python"
    }
  },
  "cells": [
    {
      "cell_type": "markdown",
      "metadata": {
        "id": "view-in-github",
        "colab_type": "text"
      },
      "source": [
        "<a href=\"https://colab.research.google.com/github/adrianbahtiar55/COVID-19-and-its-effect-on-the-stock-market-/blob/main/COVID_19_stock_market_analysis.ipynb\" target=\"_parent\"><img src=\"https://colab.research.google.com/assets/colab-badge.svg\" alt=\"Open In Colab\"/></a>"
      ]
    },
    {
      "cell_type": "markdown",
      "source": [
        "**1. Installing alpha_vantage**\n",
        "\n",
        "\n"
      ],
      "metadata": {
        "id": "vbEcp4IRNg9h"
      }
    },
    {
      "cell_type": "code",
      "source": [
        "!pip install alpha_vantage\n"
      ],
      "metadata": {
        "colab": {
          "base_uri": "https://localhost:8080/"
        },
        "id": "_x40OsaFUk5z",
        "outputId": "173d1aaf-0bea-4541-bd91-e7601806b282"
      },
      "execution_count": 1,
      "outputs": [
        {
          "output_type": "stream",
          "name": "stdout",
          "text": [
            "Looking in indexes: https://pypi.org/simple, https://us-python.pkg.dev/colab-wheels/public/simple/\n",
            "Collecting alpha_vantage\n",
            "  Downloading alpha_vantage-2.3.1-py3-none-any.whl (31 kB)\n",
            "Requirement already satisfied: requests in /usr/local/lib/python3.9/dist-packages (from alpha_vantage) (2.27.1)\n",
            "Collecting aiohttp\n",
            "  Downloading aiohttp-3.8.4-cp39-cp39-manylinux_2_17_x86_64.manylinux2014_x86_64.whl (1.0 MB)\n",
            "\u001b[2K     \u001b[90m━━━━━━━━━━━━━━━━━━━━━━━━━━━━━━━━━━━━━━━━\u001b[0m \u001b[32m1.0/1.0 MB\u001b[0m \u001b[31m10.1 MB/s\u001b[0m eta \u001b[36m0:00:00\u001b[0m\n",
            "\u001b[?25hRequirement already satisfied: attrs>=17.3.0 in /usr/local/lib/python3.9/dist-packages (from aiohttp->alpha_vantage) (23.1.0)\n",
            "Collecting async-timeout<5.0,>=4.0.0a3\n",
            "  Downloading async_timeout-4.0.2-py3-none-any.whl (5.8 kB)\n",
            "Collecting yarl<2.0,>=1.0\n",
            "  Downloading yarl-1.8.2-cp39-cp39-manylinux_2_17_x86_64.manylinux2014_x86_64.whl (264 kB)\n",
            "\u001b[2K     \u001b[90m━━━━━━━━━━━━━━━━━━━━━━━━━━━━━━━━━━━━━━\u001b[0m \u001b[32m264.6/264.6 kB\u001b[0m \u001b[31m10.2 MB/s\u001b[0m eta \u001b[36m0:00:00\u001b[0m\n",
            "\u001b[?25hRequirement already satisfied: charset-normalizer<4.0,>=2.0 in /usr/local/lib/python3.9/dist-packages (from aiohttp->alpha_vantage) (2.0.12)\n",
            "Collecting aiosignal>=1.1.2\n",
            "  Downloading aiosignal-1.3.1-py3-none-any.whl (7.6 kB)\n",
            "Collecting frozenlist>=1.1.1\n",
            "  Downloading frozenlist-1.3.3-cp39-cp39-manylinux_2_5_x86_64.manylinux1_x86_64.manylinux_2_17_x86_64.manylinux2014_x86_64.whl (158 kB)\n",
            "\u001b[2K     \u001b[90m━━━━━━━━━━━━━━━━━━━━━━━━━━━━━━━━━━━━━━━\u001b[0m \u001b[32m158.8/158.8 kB\u001b[0m \u001b[31m6.7 MB/s\u001b[0m eta \u001b[36m0:00:00\u001b[0m\n",
            "\u001b[?25hCollecting multidict<7.0,>=4.5\n",
            "  Downloading multidict-6.0.4-cp39-cp39-manylinux_2_17_x86_64.manylinux2014_x86_64.whl (114 kB)\n",
            "\u001b[2K     \u001b[90m━━━━━━━━━━━━━━━━━━━━━━━━━━━━━━━━━━━━━━━\u001b[0m \u001b[32m114.2/114.2 kB\u001b[0m \u001b[31m3.7 MB/s\u001b[0m eta \u001b[36m0:00:00\u001b[0m\n",
            "\u001b[?25hRequirement already satisfied: idna<4,>=2.5 in /usr/local/lib/python3.9/dist-packages (from requests->alpha_vantage) (3.4)\n",
            "Requirement already satisfied: certifi>=2017.4.17 in /usr/local/lib/python3.9/dist-packages (from requests->alpha_vantage) (2022.12.7)\n",
            "Requirement already satisfied: urllib3<1.27,>=1.21.1 in /usr/local/lib/python3.9/dist-packages (from requests->alpha_vantage) (1.26.15)\n",
            "Installing collected packages: multidict, frozenlist, async-timeout, yarl, aiosignal, aiohttp, alpha_vantage\n",
            "Successfully installed aiohttp-3.8.4 aiosignal-1.3.1 alpha_vantage-2.3.1 async-timeout-4.0.2 frozenlist-1.3.3 multidict-6.0.4 yarl-1.8.2\n"
          ]
        }
      ]
    },
    {
      "cell_type": "markdown",
      "source": [
        "**2. Import necessary libraries and read the daily confirmed cases and deaths into two dataframes:**"
      ],
      "metadata": {
        "id": "tpyhbg3oXcCe"
      }
    },
    {
      "cell_type": "code",
      "source": [
        "import pandas as pd\n",
        "\n",
        "confirmed_cases_url = \"https://raw.githubusercontent.com/CSSEGISandData/COVID-19/master/csse_covid_19_data/csse_covid_19_time_series/time_series_covid19_confirmed_global.csv\"\n",
        "deaths_url = \"https://raw.githubusercontent.com/CSSEGISandData/COVID-19/master/csse_covid_19_data/csse_covid_19_time_series/time_series_covid19_deaths_global.csv\"\n",
        "\n",
        "confirmed_df = pd.read_csv(confirmed_cases_url)\n",
        "deaths_df = pd.read_csv(deaths_url)\n"
      ],
      "metadata": {
        "id": "Ny_V8e79XhIf"
      },
      "execution_count": 2,
      "outputs": []
    },
    {
      "cell_type": "markdown",
      "source": [
        "**3. Use pandas to create a dataframe that aggregates and sums both confirmed cases and deaths on a global level:**"
      ],
      "metadata": {
        "id": "oqwoKAsCX7iB"
      }
    },
    {
      "cell_type": "code",
      "source": [
        "confirmed_global = confirmed_df.iloc[:, 4:].sum(axis=0)\n",
        "deaths_global = deaths_df.iloc[:, 4:].sum(axis=0)\n",
        "\n",
        "global_df = pd.DataFrame({\"Confirmed\": confirmed_global, \"Deaths\": deaths_global})\n",
        "global_df.index = pd.to_datetime(global_df.index)\n"
      ],
      "metadata": {
        "id": "3Qn5-5GFX-hp"
      },
      "execution_count": 3,
      "outputs": []
    },
    {
      "cell_type": "markdown",
      "source": [
        "**4. Research stocks for each industry and store them in a dictionary:**"
      ],
      "metadata": {
        "id": "oO-GMtauYf1g"
      }
    },
    {
      "cell_type": "code",
      "source": [
        "stocks = {\n",
        "    \"SPY\": \"Overall American Market\",\n",
        "    \"XIU.TO\": \"Overall Canadian Market\",\n",
        "    \"AAL\": \"Travel Sector\",\n",
        "    \"VNQ\": \"Real Estate Sector\",\n",
        "    \"GLD\": \"Precious Metals\"\n",
        "}\n"
      ],
      "metadata": {
        "id": "vajPxUWgcaXr"
      },
      "execution_count": 4,
      "outputs": []
    },
    {
      "cell_type": "markdown",
      "source": [
        "**5. Use AlphaVantage (the stock API used earlier in the course) to get the daily high and low prices for your selected stocks:**"
      ],
      "metadata": {
        "id": "4fEosCPvcqEL"
      }
    },
    {
      "cell_type": "code",
      "source": [
        "from alpha_vantage.timeseries import TimeSeries\n",
        "\n",
        "api_key = \"Y97V5IF3M9KZJSRZ\" \n",
        "\n",
        "ts = TimeSeries(api_key, output_format=\"pandas\")\n",
        "\n",
        "stock_data = {}\n",
        "\n",
        "for symbol, name in stocks.items():\n",
        "    data, _ = ts.get_daily_adjusted(symbol, outputsize=\"compact\")\n",
        "    data = data[[\"2. high\", \"3. low\"]]\n",
        "    stock_data[name] = data\n"
      ],
      "metadata": {
        "id": "j8FaHQ6ZdVYP"
      },
      "execution_count": 7,
      "outputs": []
    },
    {
      "cell_type": "code",
      "source": [
        "print(stock_data)"
      ],
      "metadata": {
        "colab": {
          "base_uri": "https://localhost:8080/"
        },
        "id": "E8rFmt_N2hwA",
        "outputId": "26734c96-263c-4875-9fe5-a5aec94933a6"
      },
      "execution_count": 8,
      "outputs": [
        {
          "output_type": "stream",
          "name": "stdout",
          "text": [
            "{'Overall American Market':             2. high    3. low\n",
            "date                         \n",
            "2023-04-20   413.70  410.2700\n",
            "2023-04-19   415.08  412.1600\n",
            "2023-04-18   415.72  412.7802\n",
            "2023-04-17   413.96  411.0850\n",
            "2023-04-14   415.09  410.0600\n",
            "...             ...       ...\n",
            "2022-12-01   410.00  404.7500\n",
            "2022-11-30   407.68  393.4800\n",
            "2022-11-29   397.30  393.3000\n",
            "2022-11-28   400.81  395.1100\n",
            "2022-11-25   402.91  401.5350\n",
            "\n",
            "[100 rows x 2 columns], 'Overall Canadian Market':             2. high  3. low\n",
            "date                       \n",
            "2023-04-20    31.64   31.48\n",
            "2023-04-19    31.62   31.48\n",
            "2023-04-18    31.67   31.56\n",
            "2023-04-17    31.55   31.39\n",
            "2023-04-14    31.49   31.32\n",
            "...             ...     ...\n",
            "2022-12-01    31.55   31.31\n",
            "2022-11-30    31.29   30.81\n",
            "2022-11-29    31.14   30.97\n",
            "2022-11-28    31.24   30.92\n",
            "2022-11-25    31.31   31.14\n",
            "\n",
            "[100 rows x 2 columns], 'Travel Sector':             2. high   3. low\n",
            "date                        \n",
            "2023-04-20  13.7000  13.3100\n",
            "2023-04-19  13.6800  13.1300\n",
            "2023-04-18  13.3000  12.9700\n",
            "2023-04-17  13.1700  12.8000\n",
            "2023-04-14  13.0550  12.7300\n",
            "...             ...      ...\n",
            "2022-12-01  14.5693  13.9324\n",
            "2022-11-30  14.4450  13.9300\n",
            "2022-11-29  14.1600  13.8300\n",
            "2022-11-28  14.4399  13.8200\n",
            "2022-11-25  14.7000  14.3500\n",
            "\n",
            "[100 rows x 2 columns], 'Real Estate Sector':             2. high  3. low\n",
            "date                       \n",
            "2023-04-20  82.7700  81.930\n",
            "2023-04-19  83.3700  81.970\n",
            "2023-04-18  82.9800  82.270\n",
            "2023-04-17  82.9000  81.190\n",
            "2023-04-14  83.0142  80.565\n",
            "...             ...     ...\n",
            "2022-12-01  89.3800  87.170\n",
            "2022-11-30  88.1400  85.270\n",
            "2022-11-29  86.2183  84.510\n",
            "2022-11-28  86.9600  84.510\n",
            "2022-11-25  87.0600  86.570\n",
            "\n",
            "[100 rows x 2 columns], 'Precious Metals':              2. high   3. low\n",
            "date                         \n",
            "2023-04-20  187.0300  185.780\n",
            "2023-04-19  185.5800  184.280\n",
            "2023-04-18  186.9900  185.040\n",
            "2023-04-17  185.9300  184.100\n",
            "2023-04-14  188.4869  185.170\n",
            "...              ...      ...\n",
            "2022-12-01  167.9500  166.975\n",
            "2022-11-30  164.8100  162.400\n",
            "2022-11-29  163.6299  162.600\n",
            "2022-11-28  163.0600  161.910\n",
            "2022-11-25  163.4300  162.765\n",
            "\n",
            "[100 rows x 2 columns]}\n"
          ]
        }
      ]
    }
  ]
}